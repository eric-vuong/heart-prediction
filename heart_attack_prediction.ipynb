{
 "cells": [
  {
   "cell_type": "markdown",
   "id": "05aa8b89-0473-4c0b-a0c3-bd0fe72e8095",
   "metadata": {},
   "source": [
    "# Heart Attack Prediction\n",
    "###### Using data from https://www.kaggle.com/datasets/kamilpytlak/personal-key-indicators-of-heart-disease\n",
    "###### The goal is to use decision trees to predict whether someone will have a heart attack.\n",
    "###### Performance will be compared between different parameters and approaches."
   ]
  },
  {
   "cell_type": "code",
   "execution_count": null,
   "id": "c93da267-3ed6-43f1-a8fd-e0b700076ed7",
   "metadata": {},
   "outputs": [],
   "source": [
    "# Import libraries and data\n",
    "import pandas as pd\n",
    "import numpy as np\n",
    "from sklearn import tree\n",
    "from sklearn.preprocessing import OrdinalEncoder\n",
    "from sklearn.preprocessing import OneHotEncoder\n",
    "from sklearn.model_selection import train_test_split\n",
    "from sklearn.tree import plot_tree\n",
    "import matplotlib.pyplot as plt\n",
    "data = pd.read_csv(\"heart_2022_no_nans.csv\")\n",
    "data"
   ]
  },
  {
   "cell_type": "markdown",
   "id": "97dabb13-9d55-4ae7-9a86-b4380d49db0f",
   "metadata": {},
   "source": [
    "##### Data Preprocessing\n",
    "###### SciKit learn trees can only handle numbers, so all values must be converted.\n",
    "##### Numeric Values\n",
    "###### Floats and integers are fine as is. There is no need to scale or bin them.\n",
    "##### Binary Values\n",
    "###### Yes/No and Male/Female are converted to 1 and 0.\n",
    "##### Range Values\n",
    "###### Values that can be converted to a range of numbers where the difference between them has meaning.\n",
    "###### Ex. General Health. Poor to Excellent can be represented as 0-4.\n",
    "##### Categorical Values\n",
    "###### These must be represented using a one-hot encoding.\n",
    "###### Ex. States have no numerical relation to each and there are far more than 2."
   ]
  },
  {
   "cell_type": "code",
   "execution_count": null,
   "id": "a7089360-272b-425b-89d2-fe3bfd7e8b65",
   "metadata": {},
   "outputs": [],
   "source": [
    "# Basic stats of numerical data\n",
    "display(data.describe())\n",
    "\n",
    "# Preprocessing - Store numeric values\n",
    "numeric_columns = [\"PhysicalHealthDays\", \"MentalHealthDays\", \"SleepHours\", \"HeightInMeters\", \"WeightInKilograms\", \"BMI\"]\n",
    "numeric_entries = data[numeric_columns].to_numpy()\n",
    "print(\"Shape:\",numeric_entries.shape)\n",
    "numeric_entries"
   ]
  },
  {
   "cell_type": "code",
   "execution_count": null,
   "id": "662ea5c7-29db-47e2-9759-3f758dec083a",
   "metadata": {},
   "outputs": [],
   "source": [
    "# Examine possible values\n",
    "binary_columns = [] # All columns with 2 unique values\n",
    "entries = {} # Dict that stores all unique values by column name\n",
    "\n",
    "for name in list(data.columns):\n",
    "    values = set(data[name])\n",
    "    entries.update({name: values})\n",
    "    if len(values) == 2:\n",
    "        binary_columns.append(name)\n",
    "    if len(values) < 6: # Print some values\n",
    "        print(name, values)"
   ]
  },
  {
   "cell_type": "code",
   "execution_count": null,
   "id": "d5adaf5d-dc3e-40b2-b2b8-1e0823b400c2",
   "metadata": {},
   "outputs": [],
   "source": [
    "# Preprocessing - convert binary options to 0 and 1\n",
    "# The encoder determines 0 or 1 based on alphanumeric order\n",
    "# Yes, Male = 1\n",
    "# No, Female = 0\n",
    "\n",
    "# Change all entries in CovidPos to Yes/No. Tested positive and Yes are equivalent enough to not justify 1-hot encoding\n",
    "temp_data = data.replace(to_replace=\"Tested positive using home test without a health professional\", value=\"Yes\")\n",
    "binary_columns.append(\"CovidPos\")\n",
    "\n",
    "# Remove HadHeartAttack because we want to predict this value\n",
    "binary_columns.remove(\"HadHeartAttack\")\n",
    "\n",
    "display(temp_data[binary_columns])\n",
    "binary_encoder = OrdinalEncoder()\n",
    "binary_entries = binary_encoder.fit_transform(data[binary_columns])\n",
    "print(\"Array shape:\", binary_entries.shape)\n",
    "print(binary_entries)"
   ]
  },
  {
   "cell_type": "code",
   "execution_count": null,
   "id": "c6174a42-aac1-4c9b-a93c-07b549f99ad0",
   "metadata": {},
   "outputs": [],
   "source": [
    "# Get target in its own series\n",
    "y = data[\"HadHeartAttack\"].replace({\"Yes\": 1, \"No\":0})\n",
    "y"
   ]
  },
  {
   "cell_type": "code",
   "execution_count": null,
   "id": "683ecb35-9a5b-4cdf-9142-2d79a5ed4987",
   "metadata": {},
   "outputs": [],
   "source": [
    "# Preprocessing - convert columns with multiple values to numeric ones\n",
    "range_columns = [\"GeneralHealth\", \"LastCheckupTime\", \"RemovedTeeth\", \"AgeCategory\"]\n",
    "\n",
    "# Function converts categorical column values to a range\n",
    "# col is the data, values are the possible entries, and order is the numbers to replace them with\n",
    "# returns a new array\n",
    "def to_range(col, values, order):\n",
    "    values = list(values)\n",
    "    replacements = {}\n",
    "    for i in range(len(values)):\n",
    "        replacements.update({values[i]: order[i]})\n",
    "    return col.replace(replacements).to_numpy()\n",
    "\n",
    "\n",
    "# Manually set the ordering for values\n",
    "order = [[4,1,2,0,3],[5,2,4,1],[5,6,7,0],[18,25,30,35,40,45,50,55,60,65,70,75,80]]\n",
    "i = 0\n",
    "sorted_entries = [] # Convert the possible entries to sorted list\n",
    "for name in range_columns:\n",
    "    temp = sorted(list(entries[name]))\n",
    "    sorted_entries.append(temp)\n",
    "    if len(temp) != len(order[i]):\n",
    "        print(\"Error: Order does not match entries\")\n",
    "    j = 0\n",
    "    print(name)\n",
    "    for j in range(len(order[i])):\n",
    "        print(list(temp)[j], end=':(')\n",
    "        print(order[i][j], end=\") \")\n",
    "        j += 1\n",
    "    print(\"\\n\")\n",
    "    i+=1\n",
    "\n",
    "range_entries = [] # 2d array of updated values\n",
    "i = 0\n",
    "for name in range_columns:\n",
    "    range_entries.append(to_range(data[name], sorted_entries[i], order[i]))\n",
    "    i += 1\n",
    "\n",
    "range_entries = np.array(range_entries).transpose() # Fix array shape\n",
    "print(\"Shape:\",range_entries.shape)\n",
    "print(range_entries)"
   ]
  },
  {
   "cell_type": "code",
   "execution_count": null,
   "id": "830cf934-e3fd-4085-ab67-fe129eb968a1",
   "metadata": {},
   "outputs": [],
   "source": [
    "# Preprocessing - 1-hot encoding\n",
    "categorical_cols = [\"State\", \"HadDiabetes\", \"SmokerStatus\", \"ECigaretteUsage\", \"RaceEthnicityCategory\", \"TetanusLast10Tdap\"]\n",
    "temp_data = data[categorical_cols]\n",
    "encoder = OneHotEncoder()\n",
    "encoder.fit(temp_data)\n",
    "onehot_entries = encoder.transform(temp_data).toarray()\n",
    "print(onehot_entries.shape)\n",
    "onehot_entries"
   ]
  },
  {
   "cell_type": "code",
   "execution_count": null,
   "id": "a5efb922-c931-4d64-9fb8-2baf3fb68b51",
   "metadata": {},
   "outputs": [],
   "source": [
    "onehot_col = [] # New column names for 1-hot encoding\n",
    "i = 0\n",
    "for category in encoder.categories_:\n",
    "    for col in category:\n",
    "        # Add original column name to front\n",
    "        onehot_col.append((str(categorical_cols[i]) + str(\"_\") + str(col)))\n",
    "    i += 1\n",
    "# Example\n",
    "onehot_col[-20:-1]"
   ]
  },
  {
   "cell_type": "markdown",
   "id": "2585d724-a419-4388-b1d5-cfb0a6e67ee9",
   "metadata": {},
   "source": [
    "###### The additional answer types for smoking, tetanus shots, ect. are too ambiguous to convert to a range.\n",
    "###### Ex. While not smoking is definitely better than smoking, it's unclear between being a former smoker or infrequent current one."
   ]
  },
  {
   "cell_type": "code",
   "execution_count": null,
   "id": "b43d6826-3c7b-4f1b-a7c2-86e203dfa1a3",
   "metadata": {},
   "outputs": [],
   "source": [
    "# Combine all the data\n",
    "# Column names\n",
    "column_names = numeric_columns + binary_columns + range_columns + onehot_col\n",
    "print(\"Columns:\", len(column_names))\n",
    "\n",
    "# Data values\n",
    "binary_entries.shape\n",
    "entries = np.concatenate((numeric_entries, binary_entries), axis=1)\n",
    "entries = np.concatenate((entries, range_entries), axis=1)\n",
    "entries = np.concatenate((entries, onehot_entries), axis=1)\n",
    "print(\"Data values shape:\",entries.shape)\n",
    "\n",
    "# Create dataframes\n",
    "x = pd.DataFrame(entries, columns=column_names)\n",
    "display(x)"
   ]
  },
  {
   "cell_type": "markdown",
   "id": "0cf5c04e-fa54-4a87-9f16-50a1d0cebeac",
   "metadata": {},
   "source": [
    "###### All values are now numbers. Most are 1 or 0 but a range of numbers and floats are fine."
   ]
  },
  {
   "cell_type": "code",
   "execution_count": null,
   "id": "fec1fbe2-0d5c-422b-9e81-cf9973c6b881",
   "metadata": {},
   "outputs": [],
   "source": [
    "# x is the processed data\n",
    "# y is the heart attacks\n",
    "# Split into training and validation\n",
    "x_train, x_test, y_train, y_test = train_test_split(x, y, test_size = 0.1, random_state = 1000)\n",
    "clf = tree.DecisionTreeClassifier()\n",
    "clf = clf.fit(x_train, y_train)"
   ]
  },
  {
   "cell_type": "code",
   "execution_count": null,
   "id": "fe82690e-4f4d-4d99-aa74-1b8a9d7c5bde",
   "metadata": {},
   "outputs": [],
   "source": [
    "# Function takes 2 list-likes and returns the number of matches\n",
    "# a is the prediction and b should be the true labels\n",
    "# returns dict with stats\n",
    "def compare(a,b, printstats = True):\n",
    "    if len(a) != len(b):\n",
    "        print(\"Error: lists are of unequal length\")\n",
    "        return 0\n",
    "    a = list(a)\n",
    "    b = list(b)\n",
    "    correct = 0\n",
    "    # True/false positives and negatives\n",
    "    tp, fp, tn, fn = 0,0,0,0\n",
    "    for i in range(len(a)):\n",
    "        if a[i] == b[i]:\n",
    "            correct += 1\n",
    "            if a[i] == 1: # Had heart attack\n",
    "                tp += 1\n",
    "            else: # Did not have a heart attack\n",
    "                tn += 1\n",
    "        else:\n",
    "            if b[i] == 1: # Predicted heart attack but is wrong\n",
    "                fp += 1 \n",
    "            else: # Predicted no heart attack but is wrong\n",
    "                fn += 1\n",
    "    if printstats == True:\n",
    "        print(\"Correct predicted heart attack:\", tp, \"out of\", tp+fp, end=\" \")\n",
    "        print(\"(%.2f%%)\" % float(100*tp/(tp+fp)))\n",
    "        print(\"Correctly predicted no heart attack:\", tn, \"out of\", tn+fn, end=\" \")\n",
    "        print(\"(%.2f%%)\" % float((100*tn)/(tn+fn)))\n",
    "        print(\"Total:\", tp+tn, \"out of\", tp+tn+fp+fn, end=\" \")\n",
    "        print(\"(%.2f%%)\" % float(100*(tp+tn)/(tp+tn+fp+fn)))\n",
    "    return {\"correct\": correct, \"tp\": tp, \"fp\":fp, \"tn\": tn, \"fn\":fn}"
   ]
  },
  {
   "cell_type": "code",
   "execution_count": null,
   "id": "8610c7de-a7de-40e6-b0c2-02cb41caf389",
   "metadata": {},
   "outputs": [],
   "source": [
    "# Tree\n",
    "results = clf.predict(x_test)\n",
    "print(\"Predictions for tree on test set\")\n",
    "stats = compare(results, y_test)"
   ]
  },
  {
   "cell_type": "code",
   "execution_count": null,
   "id": "b75c8067-0ee0-4cfe-8c19-08f72319ff02",
   "metadata": {},
   "outputs": [],
   "source": [
    "# Number of heart attacks\n",
    "print(\"Training set heart attacks:\", np.sum(y_train))\n",
    "print(\"Testing set heart attacks:\", np.sum(y_test))\n",
    "print(\"Total cases:\", len(x_train) + len(x_test))\n",
    "\n",
    "print(\"\\nTraining data results\")\n",
    "s = compare(clf.predict(x_train), y_train)"
   ]
  },
  {
   "cell_type": "markdown",
   "id": "85f31122-04f4-4a04-a710-b9d480fbad0a",
   "metadata": {},
   "source": [
    "###### The model, while generally correct, performs poorly when correctly predicting heart attacks.\n",
    "###### This is likely due to the training data having comparatively few heart attacks and the tree overfitting (It is 100% accurate on training data)."
   ]
  },
  {
   "cell_type": "code",
   "execution_count": null,
   "id": "587680ae-7ebf-4643-ae0e-ec9679f82742",
   "metadata": {},
   "outputs": [],
   "source": [
    "# TODO\n",
    "# Implement tree pruning and examine feature analysis"
   ]
  },
  {
   "cell_type": "code",
   "execution_count": null,
   "id": "0ca9dfc1-4447-4f2d-ae38-8616590538e2",
   "metadata": {},
   "outputs": [],
   "source": []
  }
 ],
 "metadata": {
  "kernelspec": {
   "display_name": "Python 3",
   "language": "python",
   "name": "python3"
  },
  "language_info": {
   "codemirror_mode": {
    "name": "ipython",
    "version": 3
   },
   "file_extension": ".py",
   "mimetype": "text/x-python",
   "name": "python",
   "nbconvert_exporter": "python",
   "pygments_lexer": "ipython3",
   "version": "3.8.8"
  }
 },
 "nbformat": 4,
 "nbformat_minor": 5
}
